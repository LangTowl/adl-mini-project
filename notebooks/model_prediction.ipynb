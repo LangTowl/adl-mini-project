{
 "cells": [
  {
   "cell_type": "code",
   "id": "initial_id",
   "metadata": {
    "collapsed": true,
    "ExecuteTime": {
     "end_time": "2025-02-12T15:08:05.972353Z",
     "start_time": "2025-02-12T15:08:03.750600Z"
    }
   },
   "source": "from ultralytics import YOLO",
   "outputs": [],
   "execution_count": 3
  },
  {
   "metadata": {
    "ExecuteTime": {
     "end_time": "2025-02-12T15:08:09.381239Z",
     "start_time": "2025-02-12T15:08:09.345575Z"
    }
   },
   "cell_type": "code",
   "source": [
    "# Load best run of model\n",
    "model = YOLO(\"runs/detect/train/weights/best.pt\")"
   ],
   "id": "135eef96a19e07c7",
   "outputs": [],
   "execution_count": 4
  },
  {
   "metadata": {
    "ExecuteTime": {
     "end_time": "2025-02-12T15:14:29.229325Z",
     "start_time": "2025-02-12T15:14:29.180392Z"
    }
   },
   "cell_type": "code",
   "source": [
    "# Make a prediction\n",
    "prediction = model.predict(\"../data/images/train/000000.png\")"
   ],
   "id": "7f2e3a554667331d",
   "outputs": [
    {
     "name": "stdout",
     "output_type": "stream",
     "text": [
      "\n",
      "image 1/1 /Users/langtowl/Desktop/adl-mini-project/notebooks/../data/images/train/000000.png: 224x640 1 Pedestrian, 29.3ms\n",
      "Speed: 1.5ms preprocess, 29.3ms inference, 0.5ms postprocess per image at shape (1, 3, 224, 640)\n"
     ]
    }
   ],
   "execution_count": 8
  },
  {
   "metadata": {
    "ExecuteTime": {
     "end_time": "2025-02-12T15:25:20.658426Z",
     "start_time": "2025-02-12T15:25:20.655298Z"
    }
   },
   "cell_type": "code",
   "source": [
    "# Extract bounding box\n",
    "bounding_boxes_raw = prediction[0].boxes.xyxy.cpu().numpy()\n",
    "formatted_bounding_boxes = [bounding_boxes_raw[0][0], bounding_boxes_raw[0][1], bounding_boxes_raw[0][2], bounding_boxes_raw[0][3]]\n",
    "print(formatted_bounding_boxes)"
   ],
   "id": "d586a48907df8608",
   "outputs": [
    {
     "name": "stdout",
     "output_type": "stream",
     "text": [
      "[710.608, 142.40788, 806.29297, 302.22324]\n"
     ]
    }
   ],
   "execution_count": 25
  },
  {
   "metadata": {
    "ExecuteTime": {
     "end_time": "2025-02-12T15:24:57.476993Z",
     "start_time": "2025-02-12T15:24:57.473979Z"
    }
   },
   "cell_type": "code",
   "source": [
    "def iou(box1, box2):\n",
    "    # Determine the cordinates for union\n",
    "    x1 = max(box1[0], box2[0])\n",
    "    x2 = min(box1[2], box2[2])\n",
    "    y1 = max(box1[1], box2[1])\n",
    "    y2 = min(box1[3], box2[3])\n",
    "\n",
    "    # Compute intersection\n",
    "    intersection = max(0, x2 - x1) * max(0, y2 - y1)\n",
    "\n",
    "    # Compute the area of both bounding boxes\n",
    "    box1_area = (box1[2] - box1[0]) * (box1[3] - box1[1])\n",
    "    box2_area = (box2[2] - box2[0]) * (box2[3] - box2[1])\n",
    "\n",
    "    # Compute IoU\n",
    "    IoU = intersection / (box1_area + box2_area - intersection + 1e-6)\n",
    "    return IoU"
   ],
   "id": "15dc1e952f4ea424",
   "outputs": [],
   "execution_count": 22
  },
  {
   "metadata": {
    "ExecuteTime": {
     "end_time": "2025-02-12T15:24:59.002867Z",
     "start_time": "2025-02-12T15:24:59.000939Z"
    }
   },
   "cell_type": "code",
   "source": [
    "# Generate truth\n",
    "truth = [712.40, 143.00, 810.73, 307.92]"
   ],
   "id": "111ea0e139ab567f",
   "outputs": [],
   "execution_count": 23
  },
  {
   "metadata": {
    "ExecuteTime": {
     "end_time": "2025-02-12T15:25:03.569729Z",
     "start_time": "2025-02-12T15:25:03.567308Z"
    }
   },
   "cell_type": "code",
   "source": "print(iou(truth, formatted_bounding_boxes))",
   "id": "60c7f3750fae68c2",
   "outputs": [
    {
     "name": "stdout",
     "output_type": "stream",
     "text": [
      "0.9028521002149994\n"
     ]
    }
   ],
   "execution_count": 24
  }
 ],
 "metadata": {
  "kernelspec": {
   "display_name": "Python 3",
   "language": "python",
   "name": "python3"
  },
  "language_info": {
   "codemirror_mode": {
    "name": "ipython",
    "version": 2
   },
   "file_extension": ".py",
   "mimetype": "text/x-python",
   "name": "python",
   "nbconvert_exporter": "python",
   "pygments_lexer": "ipython2",
   "version": "2.7.6"
  }
 },
 "nbformat": 4,
 "nbformat_minor": 5
}
