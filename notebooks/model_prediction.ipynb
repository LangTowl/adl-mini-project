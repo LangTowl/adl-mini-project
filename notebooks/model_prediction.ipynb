{
 "cells": [
  {
   "cell_type": "code",
   "id": "initial_id",
   "metadata": {
    "collapsed": true,
    "ExecuteTime": {
     "end_time": "2025-01-31T02:51:37.816947Z",
     "start_time": "2025-01-31T02:51:36.082148Z"
    }
   },
   "source": "from ultralytics import YOLO",
   "outputs": [],
   "execution_count": 1
  },
  {
   "metadata": {
    "ExecuteTime": {
     "end_time": "2025-01-31T02:53:21.770816Z",
     "start_time": "2025-01-31T02:53:21.741858Z"
    }
   },
   "cell_type": "code",
   "source": [
    "# Load best run of model\n",
    "model = YOLO(\"runs/detect/train/weights/best.pt\")"
   ],
   "id": "135eef96a19e07c7",
   "outputs": [],
   "execution_count": 2
  },
  {
   "metadata": {
    "ExecuteTime": {
     "end_time": "2025-01-31T02:55:03.972411Z",
     "start_time": "2025-01-31T02:55:03.387746Z"
    }
   },
   "cell_type": "code",
   "source": [
    "# Make a prediction\n",
    "prediction = model.predict(\"../data/images/train/000000.png\", save = True)"
   ],
   "id": "7f2e3a554667331d",
   "outputs": [
    {
     "name": "stdout",
     "output_type": "stream",
     "text": [
      "\n",
      "image 1/1 /Users/langtowl/Desktop/adl-mini-project/notebooks/../data/images/train/000000.png: 224x640 1 Pedestrian, 34.8ms\n",
      "Speed: 1.2ms preprocess, 34.8ms inference, 1.2ms postprocess per image at shape (1, 3, 224, 640)\n",
      "Results saved to \u001B[1mruns/detect/predict\u001B[0m\n"
     ]
    }
   ],
   "execution_count": 3
  }
 ],
 "metadata": {
  "kernelspec": {
   "display_name": "Python 3",
   "language": "python",
   "name": "python3"
  },
  "language_info": {
   "codemirror_mode": {
    "name": "ipython",
    "version": 2
   },
   "file_extension": ".py",
   "mimetype": "text/x-python",
   "name": "python",
   "nbconvert_exporter": "python",
   "pygments_lexer": "ipython2",
   "version": "2.7.6"
  }
 },
 "nbformat": 4,
 "nbformat_minor": 5
}
