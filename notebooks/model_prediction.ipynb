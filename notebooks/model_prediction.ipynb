{
 "cells": [
  {
   "cell_type": "code",
   "id": "initial_id",
   "metadata": {
    "collapsed": true,
    "ExecuteTime": {
     "end_time": "2025-02-12T18:03:38.236883Z",
     "start_time": "2025-02-12T18:03:38.223619Z"
    }
   },
   "source": [
    "from ultralytics import YOLO\n",
    "from config.class_labels import class_labels"
   ],
   "outputs": [],
   "execution_count": 58
  },
  {
   "metadata": {
    "ExecuteTime": {
     "end_time": "2025-02-12T15:08:09.381239Z",
     "start_time": "2025-02-12T15:08:09.345575Z"
    }
   },
   "cell_type": "code",
   "source": [
    "# Load best run of model\n",
    "model = YOLO(\"runs/detect/train/weights/best.pt\")"
   ],
   "id": "135eef96a19e07c7",
   "outputs": [],
   "execution_count": 4
  },
  {
   "metadata": {
    "ExecuteTime": {
     "end_time": "2025-02-12T18:08:48.349336Z",
     "start_time": "2025-02-12T18:08:48.347424Z"
    }
   },
   "cell_type": "code",
   "source": [
    "# Images to be predicted\n",
    "paths_to_image = \"../data/images/train/000008.png\"\n",
    "\n",
    "path_to_label = \"../data/raw-labels/000008.txt\""
   ],
   "id": "b56f408d65a9a51e",
   "outputs": [],
   "execution_count": 78
  },
  {
   "metadata": {
    "ExecuteTime": {
     "end_time": "2025-02-12T18:13:34.574750Z",
     "start_time": "2025-02-12T18:13:34.570999Z"
    }
   },
   "cell_type": "code",
   "source": [
    "# Make a prediction(s)\n",
    "def make_predictions(path):\n",
    "    predictions = []\n",
    "\n",
    "    # Make prediction\n",
    "    prediction = model.predict(path)\n",
    "\n",
    "    # Extract bounding boxes, class indices, and class names\n",
    "    bounding_boxes = prediction[0].boxes.xyxy.cpu().numpy()\n",
    "    class_indices = prediction[0].boxes.cls.cpu().numpy()\n",
    "\n",
    "    # Check to see if there were any detections\n",
    "    if len(bounding_boxes) > 0:\n",
    "        # Loop through each objects\n",
    "        for i in range(len(bounding_boxes)):\n",
    "            # Get class index\n",
    "            class_idx = int(class_indices[i])\n",
    "\n",
    "            # Get bounding box\n",
    "            bbox = bounding_boxes[i]\n",
    "\n",
    "            # Store prediction\n",
    "            predictions.append([class_idx, bbox[0], bbox[1], bbox[2], bbox[3]])\n",
    "    else:\n",
    "        print(\"No objects detected.\")\n",
    "\n",
    "    return sorted(predictions, key=lambda box: (box[1]**2 + box[2]**2)**0.5)\n"
   ],
   "id": "7f2e3a554667331d",
   "outputs": [],
   "execution_count": 91
  },
  {
   "metadata": {
    "ExecuteTime": {
     "end_time": "2025-02-12T18:17:28.909488Z",
     "start_time": "2025-02-12T18:17:28.904750Z"
    }
   },
   "cell_type": "code",
   "source": [
    "def collect_raw_coords(path):\n",
    "    with open(path ,\"r\") as file:\n",
    "        # Truth array\n",
    "        truth = []\n",
    "\n",
    "        # Read file\n",
    "        file_content = file.read()\n",
    "\n",
    "        # Split by line\n",
    "        file_content = file_content.split(\"\\n\")\n",
    "\n",
    "\n",
    "        # Parse each line of .txt file\n",
    "        for line in file_content:\n",
    "            temp = line.split(\" \")\n",
    "\n",
    "            # Skip don't care\n",
    "            if temp[0] not in class_labels:\n",
    "                continue\n",
    "\n",
    "            # Type cast\n",
    "            class_type = int(class_labels[temp[0]])\n",
    "            xmin = float(temp[4])\n",
    "            ymin = float(temp[5])\n",
    "            xmax = float(temp[6])\n",
    "            ymax = float(temp[7])\n",
    "\n",
    "            truth.append([class_type, xmin, ymin, xmax, ymax])\n",
    "\n",
    "        return sorted(truth, key=lambda box: (box[1]**2 + box[2]**2)**0.5)"
   ],
   "id": "90b5a302a7ecfb77",
   "outputs": [],
   "execution_count": 96
  },
  {
   "metadata": {
    "ExecuteTime": {
     "end_time": "2025-02-12T18:17:34.603774Z",
     "start_time": "2025-02-12T18:17:34.545545Z"
    }
   },
   "cell_type": "code",
   "source": [
    "# Collect predictions and truths\n",
    "predictions = make_predictions(paths_to_image)\n",
    "truths = collect_raw_coords(path_to_label)"
   ],
   "id": "8c70c059b84b2a8f",
   "outputs": [
    {
     "name": "stdout",
     "output_type": "stream",
     "text": [
      "\n",
      "image 1/1 /Users/langtowl/Desktop/adl-mini-project/notebooks/../data/images/train/000008.png: 224x640 6 Cars, 36.1ms\n",
      "Speed: 1.6ms preprocess, 36.1ms inference, 0.7ms postprocess per image at shape (1, 3, 224, 640)\n"
     ]
    }
   ],
   "execution_count": 98
  },
  {
   "metadata": {
    "ExecuteTime": {
     "end_time": "2025-02-12T15:24:57.476993Z",
     "start_time": "2025-02-12T15:24:57.473979Z"
    }
   },
   "cell_type": "code",
   "source": [
    "def iou(box1, box2):\n",
    "    # Determine the cordinates for union\n",
    "    x1 = max(box1[0], box2[0])\n",
    "    x2 = min(box1[2], box2[2])\n",
    "    y1 = max(box1[1], box2[1])\n",
    "    y2 = min(box1[3], box2[3])\n",
    "\n",
    "    # Compute intersection\n",
    "    intersection = max(0, x2 - x1) * max(0, y2 - y1)\n",
    "\n",
    "    # Compute the area of both bounding boxes\n",
    "    box1_area = (box1[2] - box1[0]) * (box1[3] - box1[1])\n",
    "    box2_area = (box2[2] - box2[0]) * (box2[3] - box2[1])\n",
    "\n",
    "    # Compute IoU\n",
    "    IoU = intersection / (box1_area + box2_area - intersection + 1e-6)\n",
    "    return IoU"
   ],
   "id": "15dc1e952f4ea424",
   "outputs": [],
   "execution_count": 22
  },
  {
   "metadata": {
    "ExecuteTime": {
     "end_time": "2025-02-12T18:18:02.650746Z",
     "start_time": "2025-02-12T18:18:02.648015Z"
    }
   },
   "cell_type": "code",
   "source": [
    "# Ensure lengths are same\n",
    "print(len(predictions))\n",
    "print(len(truths))"
   ],
   "id": "111ea0e139ab567f",
   "outputs": [
    {
     "name": "stdout",
     "output_type": "stream",
     "text": [
      "6\n",
      "6\n"
     ]
    }
   ],
   "execution_count": 99
  },
  {
   "metadata": {
    "ExecuteTime": {
     "end_time": "2025-02-12T18:19:44.071815Z",
     "start_time": "2025-02-12T18:19:44.068267Z"
    }
   },
   "cell_type": "code",
   "source": [
    "for prediction, truth in zip(predictions, truths):\n",
    "    print(f\"True class: {truth[0]} -> {prediction[0]}. IoU: {iou(prediction, truth)}\\n\")"
   ],
   "id": "f7cb40070e076af7",
   "outputs": [
    {
     "name": "stdout",
     "output_type": "stream",
     "text": [
      "True class: 0 -> 0. IoU: 0.944886907289255\n",
      "\n",
      "True class: 0 -> 0. IoU: 0.9572110975095846\n",
      "\n",
      "True class: 0 -> 0. IoU: 0.9223197332765786\n",
      "\n",
      "True class: 0 -> 0. IoU: 0.8492915221169424\n",
      "\n",
      "True class: 0 -> 0. IoU: 0.9687187820456143\n",
      "\n",
      "True class: 0 -> 0. IoU: 0.9467379818218191\n",
      "\n"
     ]
    }
   ],
   "execution_count": 100
  }
 ],
 "metadata": {
  "kernelspec": {
   "display_name": "Python 3",
   "language": "python",
   "name": "python3"
  },
  "language_info": {
   "codemirror_mode": {
    "name": "ipython",
    "version": 2
   },
   "file_extension": ".py",
   "mimetype": "text/x-python",
   "name": "python",
   "nbconvert_exporter": "python",
   "pygments_lexer": "ipython2",
   "version": "2.7.6"
  }
 },
 "nbformat": 4,
 "nbformat_minor": 5
}
