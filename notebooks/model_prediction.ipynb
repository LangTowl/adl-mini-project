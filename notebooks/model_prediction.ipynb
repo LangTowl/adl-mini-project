{
 "cells": [
  {
   "cell_type": "code",
   "id": "initial_id",
   "metadata": {
    "collapsed": true,
    "ExecuteTime": {
     "end_time": "2025-02-01T18:50:21.490608Z",
     "start_time": "2025-02-01T18:50:19.781617Z"
    }
   },
   "source": "from ultralytics import YOLO",
   "outputs": [],
   "execution_count": 2
  },
  {
   "metadata": {
    "ExecuteTime": {
     "end_time": "2025-02-01T18:50:22.356115Z",
     "start_time": "2025-02-01T18:50:22.322422Z"
    }
   },
   "cell_type": "code",
   "source": [
    "# Load best run of model\n",
    "model = YOLO(\"runs/detect/train/weights/best.pt\")"
   ],
   "id": "135eef96a19e07c7",
   "outputs": [],
   "execution_count": 3
  },
  {
   "metadata": {
    "ExecuteTime": {
     "end_time": "2025-01-31T22:53:23.404457Z",
     "start_time": "2025-01-31T22:53:23.354311Z"
    }
   },
   "cell_type": "code",
   "source": [
    "# Make a prediction\n",
    "prediction = model.predict(\"../data/images/val/006320.png\", save = True)"
   ],
   "id": "7f2e3a554667331d",
   "outputs": [
    {
     "name": "stdout",
     "output_type": "stream",
     "text": [
      "\n",
      "image 1/1 /Users/langtowl/Desktop/adl-mini-project/notebooks/../data/images/val/006320.png: 224x640 4 Cars, 28.7ms\n",
      "Speed: 2.2ms preprocess, 28.7ms inference, 0.4ms postprocess per image at shape (1, 3, 224, 640)\n",
      "Results saved to \u001B[1mruns/detect/predict2\u001B[0m\n"
     ]
    }
   ],
   "execution_count": 6
  },
  {
   "metadata": {
    "ExecuteTime": {
     "end_time": "2025-02-01T18:58:41.753804Z",
     "start_time": "2025-02-01T18:56:44.661928Z"
    }
   },
   "cell_type": "code",
   "source": [
    "# Compute model metrics\n",
    "metrics = model.val()"
   ],
   "id": "49ccf69c956e428e",
   "outputs": [
    {
     "name": "stdout",
     "output_type": "stream",
     "text": [
      "Ultralytics 8.3.70 🚀 Python-3.12.4 torch-2.6.0 CPU (Apple M1 Pro)\n"
     ]
    },
    {
     "name": "stderr",
     "output_type": "stream",
     "text": [
      "\u001B[34m\u001B[1mval: \u001B[0mScanning /Users/langtowl/Desktop/adl-mini-project/data/labels/val.cache... 1497 images, 0 backgrounds, 0 corrupt: 100%|██████████| 1497/1497 [00:00<?, ?it/s]\n",
      "                 Class     Images  Instances      Box(P          R      mAP50  mAP50-95): 100%|██████████| 94/94 [01:54<00:00,  1.22s/it]\n"
     ]
    },
    {
     "name": "stdout",
     "output_type": "stream",
     "text": [
      "                   all       1497       7786      0.672       0.47       0.51      0.307\n",
      "                   Car       1338       5693      0.831      0.757      0.855      0.593\n",
      "                   Van        421        553       0.53      0.519      0.512      0.332\n",
      "                 Truck        208        220      0.614      0.695      0.683      0.486\n",
      "            Pedestrian        349        873      0.776      0.373      0.508      0.229\n",
      "        Person_sitting         17         49          1          0      0.124     0.0467\n",
      "               Cyclist        209        292      0.544      0.295       0.37      0.179\n",
      "                  Tram         71        106      0.407      0.651      0.515      0.279\n",
      "Speed: 0.1ms preprocess, 65.9ms inference, 0.0ms loss, 0.2ms postprocess per image\n",
      "Results saved to \u001B[1mruns/detect/val5\u001B[0m\n"
     ]
    }
   ],
   "execution_count": 5
  }
 ],
 "metadata": {
  "kernelspec": {
   "display_name": "Python 3",
   "language": "python",
   "name": "python3"
  },
  "language_info": {
   "codemirror_mode": {
    "name": "ipython",
    "version": 2
   },
   "file_extension": ".py",
   "mimetype": "text/x-python",
   "name": "python",
   "nbconvert_exporter": "python",
   "pygments_lexer": "ipython2",
   "version": "2.7.6"
  }
 },
 "nbformat": 4,
 "nbformat_minor": 5
}
