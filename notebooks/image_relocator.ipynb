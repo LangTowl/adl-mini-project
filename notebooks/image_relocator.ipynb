{
 "cells": [
  {
   "cell_type": "code",
   "id": "initial_id",
   "metadata": {
    "collapsed": true,
    "ExecuteTime": {
     "end_time": "2025-01-30T23:00:44.016373Z",
     "start_time": "2025-01-30T23:00:44.011349Z"
    }
   },
   "source": "import os",
   "outputs": [],
   "execution_count": 5
  },
  {
   "metadata": {
    "ExecuteTime": {
     "end_time": "2025-01-30T23:00:44.029344Z",
     "start_time": "2025-01-30T23:00:44.027097Z"
    }
   },
   "cell_type": "code",
   "source": [
    "# Determine paths to image folders\n",
    "origin_path = \"../data/unpartitioned-images\"\n",
    "origin_train = \"../data/images/train\"\n",
    "origin_val = \"../data/images/val\""
   ],
   "id": "b89f7cf7c4e5ee01",
   "outputs": [],
   "execution_count": 6
  },
  {
   "metadata": {
    "ExecuteTime": {
     "end_time": "2025-01-30T23:00:45.015526Z",
     "start_time": "2025-01-30T23:00:44.036207Z"
    }
   },
   "cell_type": "code",
   "source": [
    "# Get list of files\n",
    "files = sorted(os.listdir(origin_path))\n",
    "total_files = len(files)\n",
    "split_index = int(0.8 * total_files)\n",
    "\n",
    "# Move files\n",
    "for count, file in enumerate(files):\n",
    "    # Determine destination\n",
    "    destination = origin_train if count < split_index else origin_val\n",
    "\n",
    "    # Construct full paths\n",
    "    src = os.path.join(origin_path, file)\n",
    "    dst = os.path.join(destination, file)\n",
    "\n",
    "    # Move file\n",
    "    os.rename(src, dst)"
   ],
   "id": "9bb163136f771972",
   "outputs": [],
   "execution_count": 7
  }
 ],
 "metadata": {
  "kernelspec": {
   "display_name": "Python 3",
   "language": "python",
   "name": "python3"
  },
  "language_info": {
   "codemirror_mode": {
    "name": "ipython",
    "version": 2
   },
   "file_extension": ".py",
   "mimetype": "text/x-python",
   "name": "python",
   "nbconvert_exporter": "python",
   "pygments_lexer": "ipython2",
   "version": "2.7.6"
  }
 },
 "nbformat": 4,
 "nbformat_minor": 5
}
