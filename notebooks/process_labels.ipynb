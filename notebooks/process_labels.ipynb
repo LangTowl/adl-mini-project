{
 "cells": [
  {
   "cell_type": "code",
   "id": "initial_id",
   "metadata": {
    "collapsed": true,
    "ExecuteTime": {
     "end_time": "2025-01-28T22:19:13.274557Z",
     "start_time": "2025-01-28T22:19:13.272545Z"
    }
   },
   "source": [
    "import os\n",
    "import config.class_labels as class_labels\n",
    "import config.bounding_box_dimensions as bounding_box_dimensions"
   ],
   "outputs": [],
   "execution_count": 62
  },
  {
   "metadata": {
    "ExecuteTime": {
     "end_time": "2025-01-28T22:19:14.033669Z",
     "start_time": "2025-01-28T22:19:14.032039Z"
    }
   },
   "cell_type": "code",
   "source": [
    "# Path details\n",
    "path_to_label_directory = \"../data/labels/\"\n",
    "path_to_processed_label_directory = \"../data/processed-labels/\""
   ],
   "id": "c0e35193283a492d",
   "outputs": [],
   "execution_count": 63
  },
  {
   "metadata": {
    "ExecuteTime": {
     "end_time": "2025-01-28T22:19:14.856431Z",
     "start_time": "2025-01-28T22:19:14.853498Z"
    }
   },
   "cell_type": "code",
   "source": [
    "def process_string_partition(partition) -> str:\n",
    "    # Partition string into components by ' '\n",
    "    string_content = partition.split(\" \")\n",
    "\n",
    "    # Convert class label, skipping unknown labels\n",
    "    if string_content[0] not in class_labels.class_labels:\n",
    "        return \"\"\n",
    "\n",
    "    class_label = class_labels.class_labels[string_content[0]]\n",
    "\n",
    "    # Compute new data segments\n",
    "    x_min = float(string_content[4])\n",
    "    x_max = float(string_content[6])\n",
    "    y_min = float(string_content[5])\n",
    "    y_max = float(string_content[7])\n",
    "\n",
    "    center_x = ((x_min + x_max) / 2) / float(bounding_box_dimensions.width)\n",
    "    center_y = ((y_min + y_max) / 2) / float(bounding_box_dimensions.height)\n",
    "    width = (x_max - x_min) / float(bounding_box_dimensions.width)\n",
    "    height = (y_max - y_min) / float(bounding_box_dimensions.height)\n",
    "\n",
    "    # Generate new string\n",
    "    new_string_content = f\"{class_label} {center_x:.5f} {center_y:.5f} {width:.5f} {height:.5f}\\n\"\n",
    "\n",
    "    return new_string_content"
   ],
   "id": "7abb2455dae7bdc1",
   "outputs": [],
   "execution_count": 64
  },
  {
   "metadata": {
    "ExecuteTime": {
     "end_time": "2025-01-28T22:19:16.751133Z",
     "start_time": "2025-01-28T22:19:16.746863Z"
    }
   },
   "cell_type": "code",
   "source": [
    "with open(path_to_label_directory + \"000000.txt\", \"r\") as file:\n",
    "    # Open file\n",
    "    file_content = file.read()\n",
    "\n",
    "    # Split into array(s)\n",
    "    file_content = file_content.split(\"\\n\")\n",
    "\n",
    "    aggregate_strings = \"\"\n",
    "    for string in file_content:\n",
    "        # Skip empty strings\n",
    "        if string == \"\":\n",
    "            continue\n",
    "\n",
    "        # Attempt to refactor string\n",
    "        try:\n",
    "            # Add processed string to string aggregator\n",
    "            aggregate_strings += process_string_partition(string)\n",
    "        except Exception as e:\n",
    "            print(e)\n",
    "\n",
    "print(aggregate_strings)\n"
   ],
   "id": "5a807bb63d8443d1",
   "outputs": [
    {
     "name": "stdout",
     "output_type": "stream",
     "text": [
      "3 7.61565 2.25460 0.98330 1.64920\n",
      "\n"
     ]
    }
   ],
   "execution_count": 65
  }
 ],
 "metadata": {
  "kernelspec": {
   "display_name": "Python 3",
   "language": "python",
   "name": "python3"
  },
  "language_info": {
   "codemirror_mode": {
    "name": "ipython",
    "version": 2
   },
   "file_extension": ".py",
   "mimetype": "text/x-python",
   "name": "python",
   "nbconvert_exporter": "python",
   "pygments_lexer": "ipython2",
   "version": "2.7.6"
  }
 },
 "nbformat": 4,
 "nbformat_minor": 5
}
