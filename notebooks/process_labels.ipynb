{
 "cells": [
  {
   "cell_type": "code",
   "id": "initial_id",
   "metadata": {
    "collapsed": true,
    "ExecuteTime": {
     "end_time": "2025-01-29T23:21:01.733575Z",
     "start_time": "2025-01-29T23:21:01.729665Z"
    }
   },
   "source": [
    "import os\n",
    "from config.class_labels import class_labels\n",
    "from config.image_dimensions import image_dimensions"
   ],
   "outputs": [],
   "execution_count": 56
  },
  {
   "metadata": {
    "ExecuteTime": {
     "end_time": "2025-01-29T23:21:01.744171Z",
     "start_time": "2025-01-29T23:21:01.742541Z"
    }
   },
   "cell_type": "code",
   "source": [
    "# Path details\n",
    "path_to_label_directory = \"../data/labels/\"\n",
    "path_to_processed_label_directory = \"../data/processed-labels/\""
   ],
   "id": "c0e35193283a492d",
   "outputs": [],
   "execution_count": 57
  },
  {
   "metadata": {
    "ExecuteTime": {
     "end_time": "2025-01-29T23:21:01.752689Z",
     "start_time": "2025-01-29T23:21:01.750561Z"
    }
   },
   "cell_type": "code",
   "source": [
    "print(os.path.exists(path_to_label_directory))\n",
    "print(os.path.exists(path_to_processed_label_directory))"
   ],
   "id": "1a07e5451d8d46e6",
   "outputs": [
    {
     "name": "stdout",
     "output_type": "stream",
     "text": [
      "True\n",
      "True\n"
     ]
    }
   ],
   "execution_count": 58
  },
  {
   "metadata": {
    "ExecuteTime": {
     "end_time": "2025-01-29T23:21:01.768609Z",
     "start_time": "2025-01-29T23:21:01.766065Z"
    }
   },
   "cell_type": "code",
   "source": [
    "def process_string_partition(partition, precision = 5) -> str:\n",
    "    # Partition string into components by ' '\n",
    "    string_content = partition.split(\" \")\n",
    "\n",
    "    # Check to see if label is valid\n",
    "    if string_content[0] not in class_labels:\n",
    "        return \"\"\n",
    "\n",
    "    # Convert class label from string -> int\n",
    "    class_label = class_labels[string_content[0]]\n",
    "\n",
    "    # Fetch data components from input partition\n",
    "    x_min = float(string_content[4])\n",
    "    y_min = float(string_content[5])\n",
    "    x_max = float(string_content[6])\n",
    "    y_max = float(string_content[7])\n",
    "\n",
    "    # Compute center of bounding box as ratio of image dimensions\n",
    "    x_center = ((x_min + x_max) / 2) / image_dimensions[\"width\"]\n",
    "    y_center = ((y_min + y_max) / 2) / image_dimensions[\"height\"]\n",
    "    bounding_box_width = (x_max - x_min) / image_dimensions[\"width\"]\n",
    "    bounding_box_height = (y_max - y_min) / image_dimensions[\"height\"]\n",
    "\n",
    "    # Generate new string\n",
    "    new_string_content = f\"{class_label} {x_center:.{precision}f} {y_center:.{precision}f} {bounding_box_width:.{precision}f} {bounding_box_height:.{precision}f}\\n\"\n",
    "\n",
    "    return new_string_content"
   ],
   "id": "7abb2455dae7bdc1",
   "outputs": [],
   "execution_count": 59
  },
  {
   "metadata": {
    "ExecuteTime": {
     "end_time": "2025-01-29T23:21:01.785732Z",
     "start_time": "2025-01-29T23:21:01.776143Z"
    }
   },
   "cell_type": "code",
   "source": [
    "# Used to termine how many files to load\n",
    "# count = 0\n",
    "\n",
    "# Sort and load files from label direcory\n",
    "raw_files = sorted(os.listdir(path_to_label_directory))\n",
    "\n",
    "# Loop over all files in labels folder\n",
    "for raw_file in raw_files:\n",
    "\n",
    "    # Used to only load x amount of files\n",
    "    # if count == 5:\n",
    "    #     break\n",
    "\n",
    "    # Ensure that file is .txt\n",
    "    if raw_file.endswith(\".txt\"):\n",
    "\n",
    "        # Create path to file\n",
    "        filepath = os.path.join(path_to_label_directory, raw_file)\n",
    "\n",
    "        # Open file\n",
    "        with open(filepath, \"r\") as file:\n",
    "\n",
    "            # Open file\n",
    "            file_content = file.read()\n",
    "\n",
    "            # Split into array(s)\n",
    "            file_content = file_content.split(\"\\n\")\n",
    "\n",
    "            aggregate_strings = \"\"\n",
    "            for string in file_content:\n",
    "\n",
    "                # Skip empty strings\n",
    "                if string == \"\":\n",
    "                    continue\n",
    "\n",
    "                # Attempt to refactor string\n",
    "                try:\n",
    "                    # Add processed string to string aggregator\n",
    "                    aggregate_strings += process_string_partition(string)\n",
    "                except Exception as e:\n",
    "                    print(e)\n",
    "\n",
    "        # Define path for new processed file\n",
    "        processed_filepath = os.path.join(path_to_processed_label_directory, raw_file)\n",
    "\n",
    "        # Write aggregated strings to the new file\n",
    "        with open(processed_filepath, \"w\") as processed_file:\n",
    "            processed_file.write(aggregate_strings)\n",
    "\n",
    "        # Increments number of files loaded\n",
    "        # count += 1"
   ],
   "id": "754143f113e69390",
   "outputs": [],
   "execution_count": 60
  }
 ],
 "metadata": {
  "kernelspec": {
   "display_name": "Python 3",
   "language": "python",
   "name": "python3"
  },
  "language_info": {
   "codemirror_mode": {
    "name": "ipython",
    "version": 2
   },
   "file_extension": ".py",
   "mimetype": "text/x-python",
   "name": "python",
   "nbconvert_exporter": "python",
   "pygments_lexer": "ipython2",
   "version": "2.7.6"
  }
 },
 "nbformat": 4,
 "nbformat_minor": 5
}
